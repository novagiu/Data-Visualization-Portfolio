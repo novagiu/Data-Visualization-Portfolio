{
  "nbformat": 4,
  "nbformat_minor": 0,
  "metadata": {
    "colab": {
      "provenance": []
    },
    "kernelspec": {
      "name": "python3",
      "display_name": "Python 3"
    },
    "language_info": {
      "name": "python"
    }
  },
  "cells": [
    {
      "cell_type": "markdown",
      "source": [
        "• 1) Consider the karate club graph in the networkx distribution used in Lab4\n",
        "G = nx.karate_club_graph()\n",
        "• Try to implement the Baryentric heuristic to sort nodes in the arc diagram and use\n",
        "nxviz to display the arc diagram sorted according to the heuristic and with nodes\n",
        "colored according to the node degree\n",
        "• Remember: the algorithm is not guaranteed to converge, so use a limited number of\n",
        "iterations"
      ],
      "metadata": {
        "id": "HvrHl88h9GuB"
      }
    },
    {
      "cell_type": "code",
      "source": [
        "                                                                                                                                                                                                                                                                                                  import numpy as np\n",
        "import matplotlib.pyplot as plt\n",
        "import networkx as nx\n",
        "import nxviz as nv\n",
        "import numpy as np\n",
        "\n",
        "G = nx.karate_club_graph()\n",
        "\n",
        "def barycentric_heuristic(G, iterations=15):\n",
        "  nodes=list(G.nodes())\n",
        "  barycenters={}\n",
        "  for n in nodes:\n",
        "    neighbors=list(G.neighbors(n))\n",
        "    if len(neighbors)>0:\n",
        "      neighbors_index=[nodes.index(neighbor) for neighbor in neighbors]\n",
        "      barycenter=np.mean(neighbors_index)\n",
        "    else:\n",
        "      barycenter=0\n",
        "    barycenters[n]=barycenter\n",
        "  nodes.sort(key=lambda n: barycenters[n])\n",
        "  return nodes\n",
        "\n",
        "ordered_nodes=barycentric_heuristic(G)\n",
        "\n",
        "node_order={}\n",
        "for index, node in enumerate(ordered_nodes):\n",
        "  node_order[node]=index\n",
        "nx.set_node_attributes(G, node_order, 'order')\n",
        "\n",
        "node_colors=[]\n",
        "for node in G.nodes():\n",
        "  degree=G.degree(node)\n",
        "  node_colors.append(degree)\n",
        "\n",
        "arcplot = nv.arc(G, node_color=node_colors, node_order=list(node_order.values()))\n",
        "\n",
        "plt.figure(figsize=(10, 5))\n",
        "plt.show()\n",
        "\n"
      ],
      "metadata": {
        "id": "li-ypRSQ9Idb",
        "colab": {
          "base_uri": "https://localhost:8080/",
          "height": 253
        },
        "outputId": "7b33ed62-0728-43ac-baa9-c686911b761c"
      },
      "execution_count": null,
      "outputs": [
        {
          "output_type": "error",
          "ename": "TypeError",
          "evalue": "base() got an unexpected keyword argument 'node_order'",
          "traceback": [
            "\u001b[0;31m---------------------------------------------------------------------------\u001b[0m",
            "\u001b[0;31mTypeError\u001b[0m                                 Traceback (most recent call last)",
            "\u001b[0;32m<ipython-input-22-1f7c8bf913b6>\u001b[0m in \u001b[0;36m<cell line: 0>\u001b[0;34m()\u001b[0m\n\u001b[1;32m     33\u001b[0m   \u001b[0mnode_colors\u001b[0m\u001b[0;34m.\u001b[0m\u001b[0mappend\u001b[0m\u001b[0;34m(\u001b[0m\u001b[0mdegree\u001b[0m\u001b[0;34m)\u001b[0m\u001b[0;34m\u001b[0m\u001b[0;34m\u001b[0m\u001b[0m\n\u001b[1;32m     34\u001b[0m \u001b[0;34m\u001b[0m\u001b[0m\n\u001b[0;32m---> 35\u001b[0;31m \u001b[0marcplot\u001b[0m \u001b[0;34m=\u001b[0m \u001b[0mnv\u001b[0m\u001b[0;34m.\u001b[0m\u001b[0marc\u001b[0m\u001b[0;34m(\u001b[0m\u001b[0mG\u001b[0m\u001b[0;34m,\u001b[0m \u001b[0mnode_order\u001b[0m\u001b[0;34m=\u001b[0m\u001b[0mlist\u001b[0m\u001b[0;34m(\u001b[0m\u001b[0mnode_order\u001b[0m\u001b[0;34m.\u001b[0m\u001b[0mvalues\u001b[0m\u001b[0;34m(\u001b[0m\u001b[0;34m)\u001b[0m\u001b[0;34m)\u001b[0m\u001b[0;34m)\u001b[0m\u001b[0;34m\u001b[0m\u001b[0;34m\u001b[0m\u001b[0m\n\u001b[0m\u001b[1;32m     36\u001b[0m \u001b[0;34m\u001b[0m\u001b[0m\n\u001b[1;32m     37\u001b[0m \u001b[0mplt\u001b[0m\u001b[0;34m.\u001b[0m\u001b[0mfigure\u001b[0m\u001b[0;34m(\u001b[0m\u001b[0mfigsize\u001b[0m\u001b[0;34m=\u001b[0m\u001b[0;34m(\u001b[0m\u001b[0;36m10\u001b[0m\u001b[0;34m,\u001b[0m \u001b[0;36m5\u001b[0m\u001b[0;34m)\u001b[0m\u001b[0;34m)\u001b[0m\u001b[0;34m\u001b[0m\u001b[0;34m\u001b[0m\u001b[0m\n",
            "\u001b[0;31mTypeError\u001b[0m: base() got an unexpected keyword argument 'node_order'"
          ]
        }
      ]
    },
    {
      "cell_type": "markdown",
      "source": [
        "• Load the spotify 30K songs dataset used in HW1. Consider the following tasks\n",
        "(and related target data)\n",
        "• Using Plotly, create a treemap, representing the hierarchy of the playlist_genres and\n",
        "subgenres, with box sizes mapped from the number of items, and color mapped from the\n",
        "average popularity. Use a non-default, perceptually uniform sequential colormap and set\n",
        "the color range mapped to the whole range of potential values of the average popularity\n",
        "(0-100). Visualize the same hierarchy tree as a node-link diagram with node size\n",
        "proportional to the number of items, the color proportional to the average popularity\n",
        "• Create a simple Dash app with the possibility of selecting the songs of different decades\n",
        "(1950-1960, 1961-1970,…) with a menu and the type of chart (treemap or sunburst) with\n",
        "another menu. The apps should show with the selected chart type the tree representation\n",
        "of the hierarchy: all->genres->subgenres"
      ],
      "metadata": {
        "id": "i17A1Bq7XrCk"
      }
    },
    {
      "cell_type": "code",
      "source": [
        "import plotly.express as px\n",
        "import pandas as pd\n",
        "\n",
        "\n",
        "songs = pd.read_csv('spotify_songs.csv')\n",
        "\n",
        "avg_popularity = songs.groupby(['playlist_genre', 'playlist_subgenre'])['track_popularity'].mean().reset_index()\n",
        "avg_popularity['num_items'] = songs.groupby(['playlist_genre', 'playlist_subgenre'])['track_popularity'].count().values\n",
        "\n",
        "fig = px.treemap(avg_popularity,\n",
        "                 path=['playlist_genre', 'playlist_subgenre'],\n",
        "                 values='num_items',\n",
        "                 color='track_popularity',\n",
        "                 color_continuous_scale='RdBu',\n",
        "                 range_color=[0, 100],\n",
        "                 title='Treemap of Genres and Subgenres')\n",
        "fig.show()\n",
        "\n",
        "fig2= px.sunburst(avg_popularity,\n",
        "                  path=['playlist_genre', 'playlist_subgenre'],\n",
        "                  values='num_items',\n",
        "                  color='track_popularity',\n",
        "                  color_continuous_scale='RdBu',\n",
        "                  range_color=[0, 100],\n",
        "                  title='Sunburst of Genres and Subgenres')\n",
        "fig2.show()\n",
        "\n",
        "\n"
      ],
      "metadata": {
        "colab": {
          "base_uri": "https://localhost:8080/",
          "height": 1000
        },
        "id": "BYM-DIFtXtN_",
        "outputId": "52a6c2b1-34cc-4d66-8a49-6b7f8bbb269d"
      },
      "execution_count": null,
      "outputs": [
        {
          "output_type": "display_data",
          "data": {
            "text/html": [
              "<html>\n",
              "<head><meta charset=\"utf-8\" /></head>\n",
              "<body>\n",
              "    <div>            <script src=\"https://cdnjs.cloudflare.com/ajax/libs/mathjax/2.7.5/MathJax.js?config=TeX-AMS-MML_SVG\"></script><script type=\"text/javascript\">if (window.MathJax && window.MathJax.Hub && window.MathJax.Hub.Config) {window.MathJax.Hub.Config({SVG: {font: \"STIX-Web\"}});}</script>                <script type=\"text/javascript\">window.PlotlyConfig = {MathJaxConfig: 'local'};</script>\n",
              "        <script charset=\"utf-8\" src=\"https://cdn.plot.ly/plotly-2.35.2.min.js\"></script>                <div id=\"2428dba0-6a05-46ac-8e59-43c095efd54c\" class=\"plotly-graph-div\" style=\"height:525px; width:100%;\"></div>            <script type=\"text/javascript\">                                    window.PLOTLYENV=window.PLOTLYENV || {};                                    if (document.getElementById(\"2428dba0-6a05-46ac-8e59-43c095efd54c\")) {                    Plotly.newPlot(                        \"2428dba0-6a05-46ac-8e59-43c095efd54c\",                        [{\"branchvalues\":\"total\",\"customdata\":[[38.32206572769953],[32.282752902155885],[40.80941358024691],[52.079352850539294],[35.510258107213765],[42.72514204545455],[35.13923182441701],[35.84107744107744],[53.77307110438729],[53.84474522292994],[42.475478468899524],[43.45108695652174],[51.09984152139461],[32.68723274282224],[28.032656663724627],[54.00090497737557],[45.68622280817403],[56.82550930026572],[26.867882808181317],[52.86933614330874],[36.44597014925373],[50.30828814872192],[43.327639751552795],[50.523843416370106],[34.83352639417508],[47.026576139670226],[47.74487016524424],[41.22353157797827],[43.21545422902889],[41.72833770955363]],\"domain\":{\"x\":[0.0,1.0],\"y\":[0.0,1.0]},\"hovertemplate\":\"labels=%{label}\\u003cbr\\u003enum_items=%{value}\\u003cbr\\u003eparent=%{parent}\\u003cbr\\u003eid=%{id}\\u003cbr\\u003etrack_popularity=%{color}\\u003cextra\\u003e\\u003c\\u002fextra\\u003e\",\"ids\":[\"rock\\u002falbum rock\",\"edm\\u002fbig room\",\"rock\\u002fclassic rock\",\"pop\\u002fdance pop\",\"edm\\u002felectro house\",\"pop\\u002felectropop\",\"rap\\u002fgangster rap\",\"rock\\u002fhard rock\",\"rap\\u002fhip hop\",\"r&b\\u002fhip pop\",\"pop\\u002findie poptimism\",\"latin\\u002flatin hip hop\",\"latin\\u002flatin pop\",\"r&b\\u002fneo soul\",\"r&b\\u002fnew jack swing\",\"rock\\u002fpermanent wave\",\"edm\\u002fpop edm\",\"pop\\u002fpost-teen pop\",\"edm\\u002fprogressive electro house\",\"latin\\u002freggaeton\",\"rap\\u002fsouthern hip hop\",\"rap\\u002ftrap\",\"latin\\u002ftropical\",\"r&b\\u002furban contemporary\",\"edm\",\"latin\",\"pop\",\"r&b\",\"rap\",\"rock\"],\"labels\":[\"album rock\",\"big room\",\"classic rock\",\"dance pop\",\"electro house\",\"electropop\",\"gangster rap\",\"hard rock\",\"hip hop\",\"hip pop\",\"indie poptimism\",\"latin hip hop\",\"latin pop\",\"neo soul\",\"new jack swing\",\"permanent wave\",\"pop edm\",\"post-teen pop\",\"progressive electro house\",\"reggaeton\",\"southern hip hop\",\"trap\",\"tropical\",\"urban contemporary\",\"edm\",\"latin\",\"pop\",\"r&b\",\"rap\",\"rock\"],\"marker\":{\"coloraxis\":\"coloraxis\",\"colors\":[38.32206572769953,32.282752902155885,40.80941358024691,52.079352850539294,35.510258107213765,42.72514204545455,35.13923182441701,35.84107744107744,53.77307110438729,53.84474522292994,42.475478468899524,43.45108695652174,51.09984152139461,32.68723274282224,28.032656663724627,54.00090497737557,45.68622280817403,56.82550930026572,26.867882808181317,52.86933614330874,36.44597014925373,50.30828814872192,43.327639751552795,50.523843416370106,34.83352639417508,47.026576139670226,47.74487016524424,41.22353157797827,43.21545422902889,41.72833770955363]},\"name\":\"\",\"parents\":[\"rock\",\"edm\",\"rock\",\"pop\",\"edm\",\"pop\",\"rap\",\"rock\",\"rap\",\"r&b\",\"pop\",\"latin\",\"latin\",\"r&b\",\"r&b\",\"rock\",\"edm\",\"pop\",\"edm\",\"latin\",\"rap\",\"rap\",\"latin\",\"r&b\",\"\",\"\",\"\",\"\",\"\",\"\"],\"values\":[1065,1206,1296,1298,1511,1408,1458,1485,1322,1256,1672,1656,1262,1637,1133,1105,1517,1129,1809,949,1675,1291,1288,1405,6043,5155,5507,5431,5746,4951],\"type\":\"treemap\"}],                        {\"template\":{\"data\":{\"histogram2dcontour\":[{\"type\":\"histogram2dcontour\",\"colorbar\":{\"outlinewidth\":0,\"ticks\":\"\"},\"colorscale\":[[0.0,\"#0d0887\"],[0.1111111111111111,\"#46039f\"],[0.2222222222222222,\"#7201a8\"],[0.3333333333333333,\"#9c179e\"],[0.4444444444444444,\"#bd3786\"],[0.5555555555555556,\"#d8576b\"],[0.6666666666666666,\"#ed7953\"],[0.7777777777777778,\"#fb9f3a\"],[0.8888888888888888,\"#fdca26\"],[1.0,\"#f0f921\"]]}],\"choropleth\":[{\"type\":\"choropleth\",\"colorbar\":{\"outlinewidth\":0,\"ticks\":\"\"}}],\"histogram2d\":[{\"type\":\"histogram2d\",\"colorbar\":{\"outlinewidth\":0,\"ticks\":\"\"},\"colorscale\":[[0.0,\"#0d0887\"],[0.1111111111111111,\"#46039f\"],[0.2222222222222222,\"#7201a8\"],[0.3333333333333333,\"#9c179e\"],[0.4444444444444444,\"#bd3786\"],[0.5555555555555556,\"#d8576b\"],[0.6666666666666666,\"#ed7953\"],[0.7777777777777778,\"#fb9f3a\"],[0.8888888888888888,\"#fdca26\"],[1.0,\"#f0f921\"]]}],\"heatmap\":[{\"type\":\"heatmap\",\"colorbar\":{\"outlinewidth\":0,\"ticks\":\"\"},\"colorscale\":[[0.0,\"#0d0887\"],[0.1111111111111111,\"#46039f\"],[0.2222222222222222,\"#7201a8\"],[0.3333333333333333,\"#9c179e\"],[0.4444444444444444,\"#bd3786\"],[0.5555555555555556,\"#d8576b\"],[0.6666666666666666,\"#ed7953\"],[0.7777777777777778,\"#fb9f3a\"],[0.8888888888888888,\"#fdca26\"],[1.0,\"#f0f921\"]]}],\"heatmapgl\":[{\"type\":\"heatmapgl\",\"colorbar\":{\"outlinewidth\":0,\"ticks\":\"\"},\"colorscale\":[[0.0,\"#0d0887\"],[0.1111111111111111,\"#46039f\"],[0.2222222222222222,\"#7201a8\"],[0.3333333333333333,\"#9c179e\"],[0.4444444444444444,\"#bd3786\"],[0.5555555555555556,\"#d8576b\"],[0.6666666666666666,\"#ed7953\"],[0.7777777777777778,\"#fb9f3a\"],[0.8888888888888888,\"#fdca26\"],[1.0,\"#f0f921\"]]}],\"contourcarpet\":[{\"type\":\"contourcarpet\",\"colorbar\":{\"outlinewidth\":0,\"ticks\":\"\"}}],\"contour\":[{\"type\":\"contour\",\"colorbar\":{\"outlinewidth\":0,\"ticks\":\"\"},\"colorscale\":[[0.0,\"#0d0887\"],[0.1111111111111111,\"#46039f\"],[0.2222222222222222,\"#7201a8\"],[0.3333333333333333,\"#9c179e\"],[0.4444444444444444,\"#bd3786\"],[0.5555555555555556,\"#d8576b\"],[0.6666666666666666,\"#ed7953\"],[0.7777777777777778,\"#fb9f3a\"],[0.8888888888888888,\"#fdca26\"],[1.0,\"#f0f921\"]]}],\"surface\":[{\"type\":\"surface\",\"colorbar\":{\"outlinewidth\":0,\"ticks\":\"\"},\"colorscale\":[[0.0,\"#0d0887\"],[0.1111111111111111,\"#46039f\"],[0.2222222222222222,\"#7201a8\"],[0.3333333333333333,\"#9c179e\"],[0.4444444444444444,\"#bd3786\"],[0.5555555555555556,\"#d8576b\"],[0.6666666666666666,\"#ed7953\"],[0.7777777777777778,\"#fb9f3a\"],[0.8888888888888888,\"#fdca26\"],[1.0,\"#f0f921\"]]}],\"mesh3d\":[{\"type\":\"mesh3d\",\"colorbar\":{\"outlinewidth\":0,\"ticks\":\"\"}}],\"scatter\":[{\"fillpattern\":{\"fillmode\":\"overlay\",\"size\":10,\"solidity\":0.2},\"type\":\"scatter\"}],\"parcoords\":[{\"type\":\"parcoords\",\"line\":{\"colorbar\":{\"outlinewidth\":0,\"ticks\":\"\"}}}],\"scatterpolargl\":[{\"type\":\"scatterpolargl\",\"marker\":{\"colorbar\":{\"outlinewidth\":0,\"ticks\":\"\"}}}],\"bar\":[{\"error_x\":{\"color\":\"#2a3f5f\"},\"error_y\":{\"color\":\"#2a3f5f\"},\"marker\":{\"line\":{\"color\":\"#E5ECF6\",\"width\":0.5},\"pattern\":{\"fillmode\":\"overlay\",\"size\":10,\"solidity\":0.2}},\"type\":\"bar\"}],\"scattergeo\":[{\"type\":\"scattergeo\",\"marker\":{\"colorbar\":{\"outlinewidth\":0,\"ticks\":\"\"}}}],\"scatterpolar\":[{\"type\":\"scatterpolar\",\"marker\":{\"colorbar\":{\"outlinewidth\":0,\"ticks\":\"\"}}}],\"histogram\":[{\"marker\":{\"pattern\":{\"fillmode\":\"overlay\",\"size\":10,\"solidity\":0.2}},\"type\":\"histogram\"}],\"scattergl\":[{\"type\":\"scattergl\",\"marker\":{\"colorbar\":{\"outlinewidth\":0,\"ticks\":\"\"}}}],\"scatter3d\":[{\"type\":\"scatter3d\",\"line\":{\"colorbar\":{\"outlinewidth\":0,\"ticks\":\"\"}},\"marker\":{\"colorbar\":{\"outlinewidth\":0,\"ticks\":\"\"}}}],\"scattermapbox\":[{\"type\":\"scattermapbox\",\"marker\":{\"colorbar\":{\"outlinewidth\":0,\"ticks\":\"\"}}}],\"scatterternary\":[{\"type\":\"scatterternary\",\"marker\":{\"colorbar\":{\"outlinewidth\":0,\"ticks\":\"\"}}}],\"scattercarpet\":[{\"type\":\"scattercarpet\",\"marker\":{\"colorbar\":{\"outlinewidth\":0,\"ticks\":\"\"}}}],\"carpet\":[{\"aaxis\":{\"endlinecolor\":\"#2a3f5f\",\"gridcolor\":\"white\",\"linecolor\":\"white\",\"minorgridcolor\":\"white\",\"startlinecolor\":\"#2a3f5f\"},\"baxis\":{\"endlinecolor\":\"#2a3f5f\",\"gridcolor\":\"white\",\"linecolor\":\"white\",\"minorgridcolor\":\"white\",\"startlinecolor\":\"#2a3f5f\"},\"type\":\"carpet\"}],\"table\":[{\"cells\":{\"fill\":{\"color\":\"#EBF0F8\"},\"line\":{\"color\":\"white\"}},\"header\":{\"fill\":{\"color\":\"#C8D4E3\"},\"line\":{\"color\":\"white\"}},\"type\":\"table\"}],\"barpolar\":[{\"marker\":{\"line\":{\"color\":\"#E5ECF6\",\"width\":0.5},\"pattern\":{\"fillmode\":\"overlay\",\"size\":10,\"solidity\":0.2}},\"type\":\"barpolar\"}],\"pie\":[{\"automargin\":true,\"type\":\"pie\"}]},\"layout\":{\"autotypenumbers\":\"strict\",\"colorway\":[\"#636efa\",\"#EF553B\",\"#00cc96\",\"#ab63fa\",\"#FFA15A\",\"#19d3f3\",\"#FF6692\",\"#B6E880\",\"#FF97FF\",\"#FECB52\"],\"font\":{\"color\":\"#2a3f5f\"},\"hovermode\":\"closest\",\"hoverlabel\":{\"align\":\"left\"},\"paper_bgcolor\":\"white\",\"plot_bgcolor\":\"#E5ECF6\",\"polar\":{\"bgcolor\":\"#E5ECF6\",\"angularaxis\":{\"gridcolor\":\"white\",\"linecolor\":\"white\",\"ticks\":\"\"},\"radialaxis\":{\"gridcolor\":\"white\",\"linecolor\":\"white\",\"ticks\":\"\"}},\"ternary\":{\"bgcolor\":\"#E5ECF6\",\"aaxis\":{\"gridcolor\":\"white\",\"linecolor\":\"white\",\"ticks\":\"\"},\"baxis\":{\"gridcolor\":\"white\",\"linecolor\":\"white\",\"ticks\":\"\"},\"caxis\":{\"gridcolor\":\"white\",\"linecolor\":\"white\",\"ticks\":\"\"}},\"coloraxis\":{\"colorbar\":{\"outlinewidth\":0,\"ticks\":\"\"}},\"colorscale\":{\"sequential\":[[0.0,\"#0d0887\"],[0.1111111111111111,\"#46039f\"],[0.2222222222222222,\"#7201a8\"],[0.3333333333333333,\"#9c179e\"],[0.4444444444444444,\"#bd3786\"],[0.5555555555555556,\"#d8576b\"],[0.6666666666666666,\"#ed7953\"],[0.7777777777777778,\"#fb9f3a\"],[0.8888888888888888,\"#fdca26\"],[1.0,\"#f0f921\"]],\"sequentialminus\":[[0.0,\"#0d0887\"],[0.1111111111111111,\"#46039f\"],[0.2222222222222222,\"#7201a8\"],[0.3333333333333333,\"#9c179e\"],[0.4444444444444444,\"#bd3786\"],[0.5555555555555556,\"#d8576b\"],[0.6666666666666666,\"#ed7953\"],[0.7777777777777778,\"#fb9f3a\"],[0.8888888888888888,\"#fdca26\"],[1.0,\"#f0f921\"]],\"diverging\":[[0,\"#8e0152\"],[0.1,\"#c51b7d\"],[0.2,\"#de77ae\"],[0.3,\"#f1b6da\"],[0.4,\"#fde0ef\"],[0.5,\"#f7f7f7\"],[0.6,\"#e6f5d0\"],[0.7,\"#b8e186\"],[0.8,\"#7fbc41\"],[0.9,\"#4d9221\"],[1,\"#276419\"]]},\"xaxis\":{\"gridcolor\":\"white\",\"linecolor\":\"white\",\"ticks\":\"\",\"title\":{\"standoff\":15},\"zerolinecolor\":\"white\",\"automargin\":true,\"zerolinewidth\":2},\"yaxis\":{\"gridcolor\":\"white\",\"linecolor\":\"white\",\"ticks\":\"\",\"title\":{\"standoff\":15},\"zerolinecolor\":\"white\",\"automargin\":true,\"zerolinewidth\":2},\"scene\":{\"xaxis\":{\"backgroundcolor\":\"#E5ECF6\",\"gridcolor\":\"white\",\"linecolor\":\"white\",\"showbackground\":true,\"ticks\":\"\",\"zerolinecolor\":\"white\",\"gridwidth\":2},\"yaxis\":{\"backgroundcolor\":\"#E5ECF6\",\"gridcolor\":\"white\",\"linecolor\":\"white\",\"showbackground\":true,\"ticks\":\"\",\"zerolinecolor\":\"white\",\"gridwidth\":2},\"zaxis\":{\"backgroundcolor\":\"#E5ECF6\",\"gridcolor\":\"white\",\"linecolor\":\"white\",\"showbackground\":true,\"ticks\":\"\",\"zerolinecolor\":\"white\",\"gridwidth\":2}},\"shapedefaults\":{\"line\":{\"color\":\"#2a3f5f\"}},\"annotationdefaults\":{\"arrowcolor\":\"#2a3f5f\",\"arrowhead\":0,\"arrowwidth\":1},\"geo\":{\"bgcolor\":\"white\",\"landcolor\":\"#E5ECF6\",\"subunitcolor\":\"white\",\"showland\":true,\"showlakes\":true,\"lakecolor\":\"white\"},\"title\":{\"x\":0.05},\"mapbox\":{\"style\":\"light\"}}},\"coloraxis\":{\"colorbar\":{\"title\":{\"text\":\"track_popularity\"}},\"colorscale\":[[0.0,\"rgb(103,0,31)\"],[0.1,\"rgb(178,24,43)\"],[0.2,\"rgb(214,96,77)\"],[0.3,\"rgb(244,165,130)\"],[0.4,\"rgb(253,219,199)\"],[0.5,\"rgb(247,247,247)\"],[0.6,\"rgb(209,229,240)\"],[0.7,\"rgb(146,197,222)\"],[0.8,\"rgb(67,147,195)\"],[0.9,\"rgb(33,102,172)\"],[1.0,\"rgb(5,48,97)\"]],\"cmin\":0,\"cmax\":100},\"legend\":{\"tracegroupgap\":0},\"title\":{\"text\":\"Treemap of Genres and Subgenres\"}},                        {\"responsive\": true}                    ).then(function(){\n",
              "                            \n",
              "var gd = document.getElementById('2428dba0-6a05-46ac-8e59-43c095efd54c');\n",
              "var x = new MutationObserver(function (mutations, observer) {{\n",
              "        var display = window.getComputedStyle(gd).display;\n",
              "        if (!display || display === 'none') {{\n",
              "            console.log([gd, 'removed!']);\n",
              "            Plotly.purge(gd);\n",
              "            observer.disconnect();\n",
              "        }}\n",
              "}});\n",
              "\n",
              "// Listen for the removal of the full notebook cells\n",
              "var notebookContainer = gd.closest('#notebook-container');\n",
              "if (notebookContainer) {{\n",
              "    x.observe(notebookContainer, {childList: true});\n",
              "}}\n",
              "\n",
              "// Listen for the clearing of the current output cell\n",
              "var outputEl = gd.closest('.output');\n",
              "if (outputEl) {{\n",
              "    x.observe(outputEl, {childList: true});\n",
              "}}\n",
              "\n",
              "                        })                };                            </script>        </div>\n",
              "</body>\n",
              "</html>"
            ]
          },
          "metadata": {}
        },
        {
          "output_type": "display_data",
          "data": {
            "text/html": [
              "<html>\n",
              "<head><meta charset=\"utf-8\" /></head>\n",
              "<body>\n",
              "    <div>            <script src=\"https://cdnjs.cloudflare.com/ajax/libs/mathjax/2.7.5/MathJax.js?config=TeX-AMS-MML_SVG\"></script><script type=\"text/javascript\">if (window.MathJax && window.MathJax.Hub && window.MathJax.Hub.Config) {window.MathJax.Hub.Config({SVG: {font: \"STIX-Web\"}});}</script>                <script type=\"text/javascript\">window.PlotlyConfig = {MathJaxConfig: 'local'};</script>\n",
              "        <script charset=\"utf-8\" src=\"https://cdn.plot.ly/plotly-2.35.2.min.js\"></script>                <div id=\"b279812d-9ad1-4c81-bb44-f249e2b93722\" class=\"plotly-graph-div\" style=\"height:525px; width:100%;\"></div>            <script type=\"text/javascript\">                                    window.PLOTLYENV=window.PLOTLYENV || {};                                    if (document.getElementById(\"b279812d-9ad1-4c81-bb44-f249e2b93722\")) {                    Plotly.newPlot(                        \"b279812d-9ad1-4c81-bb44-f249e2b93722\",                        [{\"branchvalues\":\"total\",\"customdata\":[[38.32206572769953],[32.282752902155885],[40.80941358024691],[52.079352850539294],[35.510258107213765],[42.72514204545455],[35.13923182441701],[35.84107744107744],[53.77307110438729],[53.84474522292994],[42.475478468899524],[43.45108695652174],[51.09984152139461],[32.68723274282224],[28.032656663724627],[54.00090497737557],[45.68622280817403],[56.82550930026572],[26.867882808181317],[52.86933614330874],[36.44597014925373],[50.30828814872192],[43.327639751552795],[50.523843416370106],[34.83352639417508],[47.026576139670226],[47.74487016524424],[41.22353157797827],[43.21545422902889],[41.72833770955363]],\"domain\":{\"x\":[0.0,1.0],\"y\":[0.0,1.0]},\"hovertemplate\":\"labels=%{label}\\u003cbr\\u003enum_items=%{value}\\u003cbr\\u003eparent=%{parent}\\u003cbr\\u003eid=%{id}\\u003cbr\\u003etrack_popularity=%{color}\\u003cextra\\u003e\\u003c\\u002fextra\\u003e\",\"ids\":[\"rock\\u002falbum rock\",\"edm\\u002fbig room\",\"rock\\u002fclassic rock\",\"pop\\u002fdance pop\",\"edm\\u002felectro house\",\"pop\\u002felectropop\",\"rap\\u002fgangster rap\",\"rock\\u002fhard rock\",\"rap\\u002fhip hop\",\"r&b\\u002fhip pop\",\"pop\\u002findie poptimism\",\"latin\\u002flatin hip hop\",\"latin\\u002flatin pop\",\"r&b\\u002fneo soul\",\"r&b\\u002fnew jack swing\",\"rock\\u002fpermanent wave\",\"edm\\u002fpop edm\",\"pop\\u002fpost-teen pop\",\"edm\\u002fprogressive electro house\",\"latin\\u002freggaeton\",\"rap\\u002fsouthern hip hop\",\"rap\\u002ftrap\",\"latin\\u002ftropical\",\"r&b\\u002furban contemporary\",\"edm\",\"latin\",\"pop\",\"r&b\",\"rap\",\"rock\"],\"labels\":[\"album rock\",\"big room\",\"classic rock\",\"dance pop\",\"electro house\",\"electropop\",\"gangster rap\",\"hard rock\",\"hip hop\",\"hip pop\",\"indie poptimism\",\"latin hip hop\",\"latin pop\",\"neo soul\",\"new jack swing\",\"permanent wave\",\"pop edm\",\"post-teen pop\",\"progressive electro house\",\"reggaeton\",\"southern hip hop\",\"trap\",\"tropical\",\"urban contemporary\",\"edm\",\"latin\",\"pop\",\"r&b\",\"rap\",\"rock\"],\"marker\":{\"coloraxis\":\"coloraxis\",\"colors\":[38.32206572769953,32.282752902155885,40.80941358024691,52.079352850539294,35.510258107213765,42.72514204545455,35.13923182441701,35.84107744107744,53.77307110438729,53.84474522292994,42.475478468899524,43.45108695652174,51.09984152139461,32.68723274282224,28.032656663724627,54.00090497737557,45.68622280817403,56.82550930026572,26.867882808181317,52.86933614330874,36.44597014925373,50.30828814872192,43.327639751552795,50.523843416370106,34.83352639417508,47.026576139670226,47.74487016524424,41.22353157797827,43.21545422902889,41.72833770955363]},\"name\":\"\",\"parents\":[\"rock\",\"edm\",\"rock\",\"pop\",\"edm\",\"pop\",\"rap\",\"rock\",\"rap\",\"r&b\",\"pop\",\"latin\",\"latin\",\"r&b\",\"r&b\",\"rock\",\"edm\",\"pop\",\"edm\",\"latin\",\"rap\",\"rap\",\"latin\",\"r&b\",\"\",\"\",\"\",\"\",\"\",\"\"],\"values\":[1065,1206,1296,1298,1511,1408,1458,1485,1322,1256,1672,1656,1262,1637,1133,1105,1517,1129,1809,949,1675,1291,1288,1405,6043,5155,5507,5431,5746,4951],\"type\":\"sunburst\"}],                        {\"template\":{\"data\":{\"histogram2dcontour\":[{\"type\":\"histogram2dcontour\",\"colorbar\":{\"outlinewidth\":0,\"ticks\":\"\"},\"colorscale\":[[0.0,\"#0d0887\"],[0.1111111111111111,\"#46039f\"],[0.2222222222222222,\"#7201a8\"],[0.3333333333333333,\"#9c179e\"],[0.4444444444444444,\"#bd3786\"],[0.5555555555555556,\"#d8576b\"],[0.6666666666666666,\"#ed7953\"],[0.7777777777777778,\"#fb9f3a\"],[0.8888888888888888,\"#fdca26\"],[1.0,\"#f0f921\"]]}],\"choropleth\":[{\"type\":\"choropleth\",\"colorbar\":{\"outlinewidth\":0,\"ticks\":\"\"}}],\"histogram2d\":[{\"type\":\"histogram2d\",\"colorbar\":{\"outlinewidth\":0,\"ticks\":\"\"},\"colorscale\":[[0.0,\"#0d0887\"],[0.1111111111111111,\"#46039f\"],[0.2222222222222222,\"#7201a8\"],[0.3333333333333333,\"#9c179e\"],[0.4444444444444444,\"#bd3786\"],[0.5555555555555556,\"#d8576b\"],[0.6666666666666666,\"#ed7953\"],[0.7777777777777778,\"#fb9f3a\"],[0.8888888888888888,\"#fdca26\"],[1.0,\"#f0f921\"]]}],\"heatmap\":[{\"type\":\"heatmap\",\"colorbar\":{\"outlinewidth\":0,\"ticks\":\"\"},\"colorscale\":[[0.0,\"#0d0887\"],[0.1111111111111111,\"#46039f\"],[0.2222222222222222,\"#7201a8\"],[0.3333333333333333,\"#9c179e\"],[0.4444444444444444,\"#bd3786\"],[0.5555555555555556,\"#d8576b\"],[0.6666666666666666,\"#ed7953\"],[0.7777777777777778,\"#fb9f3a\"],[0.8888888888888888,\"#fdca26\"],[1.0,\"#f0f921\"]]}],\"heatmapgl\":[{\"type\":\"heatmapgl\",\"colorbar\":{\"outlinewidth\":0,\"ticks\":\"\"},\"colorscale\":[[0.0,\"#0d0887\"],[0.1111111111111111,\"#46039f\"],[0.2222222222222222,\"#7201a8\"],[0.3333333333333333,\"#9c179e\"],[0.4444444444444444,\"#bd3786\"],[0.5555555555555556,\"#d8576b\"],[0.6666666666666666,\"#ed7953\"],[0.7777777777777778,\"#fb9f3a\"],[0.8888888888888888,\"#fdca26\"],[1.0,\"#f0f921\"]]}],\"contourcarpet\":[{\"type\":\"contourcarpet\",\"colorbar\":{\"outlinewidth\":0,\"ticks\":\"\"}}],\"contour\":[{\"type\":\"contour\",\"colorbar\":{\"outlinewidth\":0,\"ticks\":\"\"},\"colorscale\":[[0.0,\"#0d0887\"],[0.1111111111111111,\"#46039f\"],[0.2222222222222222,\"#7201a8\"],[0.3333333333333333,\"#9c179e\"],[0.4444444444444444,\"#bd3786\"],[0.5555555555555556,\"#d8576b\"],[0.6666666666666666,\"#ed7953\"],[0.7777777777777778,\"#fb9f3a\"],[0.8888888888888888,\"#fdca26\"],[1.0,\"#f0f921\"]]}],\"surface\":[{\"type\":\"surface\",\"colorbar\":{\"outlinewidth\":0,\"ticks\":\"\"},\"colorscale\":[[0.0,\"#0d0887\"],[0.1111111111111111,\"#46039f\"],[0.2222222222222222,\"#7201a8\"],[0.3333333333333333,\"#9c179e\"],[0.4444444444444444,\"#bd3786\"],[0.5555555555555556,\"#d8576b\"],[0.6666666666666666,\"#ed7953\"],[0.7777777777777778,\"#fb9f3a\"],[0.8888888888888888,\"#fdca26\"],[1.0,\"#f0f921\"]]}],\"mesh3d\":[{\"type\":\"mesh3d\",\"colorbar\":{\"outlinewidth\":0,\"ticks\":\"\"}}],\"scatter\":[{\"fillpattern\":{\"fillmode\":\"overlay\",\"size\":10,\"solidity\":0.2},\"type\":\"scatter\"}],\"parcoords\":[{\"type\":\"parcoords\",\"line\":{\"colorbar\":{\"outlinewidth\":0,\"ticks\":\"\"}}}],\"scatterpolargl\":[{\"type\":\"scatterpolargl\",\"marker\":{\"colorbar\":{\"outlinewidth\":0,\"ticks\":\"\"}}}],\"bar\":[{\"error_x\":{\"color\":\"#2a3f5f\"},\"error_y\":{\"color\":\"#2a3f5f\"},\"marker\":{\"line\":{\"color\":\"#E5ECF6\",\"width\":0.5},\"pattern\":{\"fillmode\":\"overlay\",\"size\":10,\"solidity\":0.2}},\"type\":\"bar\"}],\"scattergeo\":[{\"type\":\"scattergeo\",\"marker\":{\"colorbar\":{\"outlinewidth\":0,\"ticks\":\"\"}}}],\"scatterpolar\":[{\"type\":\"scatterpolar\",\"marker\":{\"colorbar\":{\"outlinewidth\":0,\"ticks\":\"\"}}}],\"histogram\":[{\"marker\":{\"pattern\":{\"fillmode\":\"overlay\",\"size\":10,\"solidity\":0.2}},\"type\":\"histogram\"}],\"scattergl\":[{\"type\":\"scattergl\",\"marker\":{\"colorbar\":{\"outlinewidth\":0,\"ticks\":\"\"}}}],\"scatter3d\":[{\"type\":\"scatter3d\",\"line\":{\"colorbar\":{\"outlinewidth\":0,\"ticks\":\"\"}},\"marker\":{\"colorbar\":{\"outlinewidth\":0,\"ticks\":\"\"}}}],\"scattermapbox\":[{\"type\":\"scattermapbox\",\"marker\":{\"colorbar\":{\"outlinewidth\":0,\"ticks\":\"\"}}}],\"scatterternary\":[{\"type\":\"scatterternary\",\"marker\":{\"colorbar\":{\"outlinewidth\":0,\"ticks\":\"\"}}}],\"scattercarpet\":[{\"type\":\"scattercarpet\",\"marker\":{\"colorbar\":{\"outlinewidth\":0,\"ticks\":\"\"}}}],\"carpet\":[{\"aaxis\":{\"endlinecolor\":\"#2a3f5f\",\"gridcolor\":\"white\",\"linecolor\":\"white\",\"minorgridcolor\":\"white\",\"startlinecolor\":\"#2a3f5f\"},\"baxis\":{\"endlinecolor\":\"#2a3f5f\",\"gridcolor\":\"white\",\"linecolor\":\"white\",\"minorgridcolor\":\"white\",\"startlinecolor\":\"#2a3f5f\"},\"type\":\"carpet\"}],\"table\":[{\"cells\":{\"fill\":{\"color\":\"#EBF0F8\"},\"line\":{\"color\":\"white\"}},\"header\":{\"fill\":{\"color\":\"#C8D4E3\"},\"line\":{\"color\":\"white\"}},\"type\":\"table\"}],\"barpolar\":[{\"marker\":{\"line\":{\"color\":\"#E5ECF6\",\"width\":0.5},\"pattern\":{\"fillmode\":\"overlay\",\"size\":10,\"solidity\":0.2}},\"type\":\"barpolar\"}],\"pie\":[{\"automargin\":true,\"type\":\"pie\"}]},\"layout\":{\"autotypenumbers\":\"strict\",\"colorway\":[\"#636efa\",\"#EF553B\",\"#00cc96\",\"#ab63fa\",\"#FFA15A\",\"#19d3f3\",\"#FF6692\",\"#B6E880\",\"#FF97FF\",\"#FECB52\"],\"font\":{\"color\":\"#2a3f5f\"},\"hovermode\":\"closest\",\"hoverlabel\":{\"align\":\"left\"},\"paper_bgcolor\":\"white\",\"plot_bgcolor\":\"#E5ECF6\",\"polar\":{\"bgcolor\":\"#E5ECF6\",\"angularaxis\":{\"gridcolor\":\"white\",\"linecolor\":\"white\",\"ticks\":\"\"},\"radialaxis\":{\"gridcolor\":\"white\",\"linecolor\":\"white\",\"ticks\":\"\"}},\"ternary\":{\"bgcolor\":\"#E5ECF6\",\"aaxis\":{\"gridcolor\":\"white\",\"linecolor\":\"white\",\"ticks\":\"\"},\"baxis\":{\"gridcolor\":\"white\",\"linecolor\":\"white\",\"ticks\":\"\"},\"caxis\":{\"gridcolor\":\"white\",\"linecolor\":\"white\",\"ticks\":\"\"}},\"coloraxis\":{\"colorbar\":{\"outlinewidth\":0,\"ticks\":\"\"}},\"colorscale\":{\"sequential\":[[0.0,\"#0d0887\"],[0.1111111111111111,\"#46039f\"],[0.2222222222222222,\"#7201a8\"],[0.3333333333333333,\"#9c179e\"],[0.4444444444444444,\"#bd3786\"],[0.5555555555555556,\"#d8576b\"],[0.6666666666666666,\"#ed7953\"],[0.7777777777777778,\"#fb9f3a\"],[0.8888888888888888,\"#fdca26\"],[1.0,\"#f0f921\"]],\"sequentialminus\":[[0.0,\"#0d0887\"],[0.1111111111111111,\"#46039f\"],[0.2222222222222222,\"#7201a8\"],[0.3333333333333333,\"#9c179e\"],[0.4444444444444444,\"#bd3786\"],[0.5555555555555556,\"#d8576b\"],[0.6666666666666666,\"#ed7953\"],[0.7777777777777778,\"#fb9f3a\"],[0.8888888888888888,\"#fdca26\"],[1.0,\"#f0f921\"]],\"diverging\":[[0,\"#8e0152\"],[0.1,\"#c51b7d\"],[0.2,\"#de77ae\"],[0.3,\"#f1b6da\"],[0.4,\"#fde0ef\"],[0.5,\"#f7f7f7\"],[0.6,\"#e6f5d0\"],[0.7,\"#b8e186\"],[0.8,\"#7fbc41\"],[0.9,\"#4d9221\"],[1,\"#276419\"]]},\"xaxis\":{\"gridcolor\":\"white\",\"linecolor\":\"white\",\"ticks\":\"\",\"title\":{\"standoff\":15},\"zerolinecolor\":\"white\",\"automargin\":true,\"zerolinewidth\":2},\"yaxis\":{\"gridcolor\":\"white\",\"linecolor\":\"white\",\"ticks\":\"\",\"title\":{\"standoff\":15},\"zerolinecolor\":\"white\",\"automargin\":true,\"zerolinewidth\":2},\"scene\":{\"xaxis\":{\"backgroundcolor\":\"#E5ECF6\",\"gridcolor\":\"white\",\"linecolor\":\"white\",\"showbackground\":true,\"ticks\":\"\",\"zerolinecolor\":\"white\",\"gridwidth\":2},\"yaxis\":{\"backgroundcolor\":\"#E5ECF6\",\"gridcolor\":\"white\",\"linecolor\":\"white\",\"showbackground\":true,\"ticks\":\"\",\"zerolinecolor\":\"white\",\"gridwidth\":2},\"zaxis\":{\"backgroundcolor\":\"#E5ECF6\",\"gridcolor\":\"white\",\"linecolor\":\"white\",\"showbackground\":true,\"ticks\":\"\",\"zerolinecolor\":\"white\",\"gridwidth\":2}},\"shapedefaults\":{\"line\":{\"color\":\"#2a3f5f\"}},\"annotationdefaults\":{\"arrowcolor\":\"#2a3f5f\",\"arrowhead\":0,\"arrowwidth\":1},\"geo\":{\"bgcolor\":\"white\",\"landcolor\":\"#E5ECF6\",\"subunitcolor\":\"white\",\"showland\":true,\"showlakes\":true,\"lakecolor\":\"white\"},\"title\":{\"x\":0.05},\"mapbox\":{\"style\":\"light\"}}},\"coloraxis\":{\"colorbar\":{\"title\":{\"text\":\"track_popularity\"}},\"colorscale\":[[0.0,\"rgb(103,0,31)\"],[0.1,\"rgb(178,24,43)\"],[0.2,\"rgb(214,96,77)\"],[0.3,\"rgb(244,165,130)\"],[0.4,\"rgb(253,219,199)\"],[0.5,\"rgb(247,247,247)\"],[0.6,\"rgb(209,229,240)\"],[0.7,\"rgb(146,197,222)\"],[0.8,\"rgb(67,147,195)\"],[0.9,\"rgb(33,102,172)\"],[1.0,\"rgb(5,48,97)\"]],\"cmin\":0,\"cmax\":100},\"legend\":{\"tracegroupgap\":0},\"title\":{\"text\":\"Sunburst of Genres and Subgenres\"}},                        {\"responsive\": true}                    ).then(function(){\n",
              "                            \n",
              "var gd = document.getElementById('b279812d-9ad1-4c81-bb44-f249e2b93722');\n",
              "var x = new MutationObserver(function (mutations, observer) {{\n",
              "        var display = window.getComputedStyle(gd).display;\n",
              "        if (!display || display === 'none') {{\n",
              "            console.log([gd, 'removed!']);\n",
              "            Plotly.purge(gd);\n",
              "            observer.disconnect();\n",
              "        }}\n",
              "}});\n",
              "\n",
              "// Listen for the removal of the full notebook cells\n",
              "var notebookContainer = gd.closest('#notebook-container');\n",
              "if (notebookContainer) {{\n",
              "    x.observe(notebookContainer, {childList: true});\n",
              "}}\n",
              "\n",
              "// Listen for the clearing of the current output cell\n",
              "var outputEl = gd.closest('.output');\n",
              "if (outputEl) {{\n",
              "    x.observe(outputEl, {childList: true});\n",
              "}}\n",
              "\n",
              "                        })                };                            </script>        </div>\n",
              "</body>\n",
              "</html>"
            ]
          },
          "metadata": {}
        }
      ]
    },
    {
      "cell_type": "code",
      "source": [
        "import dash\n",
        "import dash_core_components as dcc\n",
        "import dash_html_components as html\n",
        "from dash.dependencies import Input, Output\n",
        "from jupyter_dash import JupyterDash\n",
        "import plotly.express as px\n",
        "import pandas as pd\n",
        "\n",
        "songs=pd.read_csv('spotify_songs.csv')\n",
        "app=dash.Dash(__name__)\n",
        "\n",
        "app.layout=html.Div([\n",
        "    dcc.Dropdown(\n",
        "        id='decade-dropdown',\n",
        "        options=[{'label':f' {decade}--{decade+9}', 'value':f'{decade}-{decade+9}'}\n",
        "                 for decade in range(1950,2020,10)],\n",
        "        value='1950-1960'\n",
        "    ),\n",
        "    dcc.Dropdown(\n",
        "        id='chart-type-dropdown',\n",
        "        options=[{'label': 'Treemap', 'value': 'treemap'},\n",
        "                 {'label': 'Sunburst', 'value': 'sunburst'}],\n",
        "        value='treemap'\n",
        "    ),\n",
        "    dcc.Graph(id='chart')\n",
        "])\n",
        "\n",
        "@app.callback(\n",
        "    Output('chart', 'figure'),\n",
        "    [Input('decade-dropdown', 'value'),\n",
        "     Input('chart-type-dropdown', 'value')]\n",
        ")\n",
        "def update_chart(decade, chart_type):\n",
        "  start_year, end_year=map(int, decade.split('-'))\n",
        "  filtered_songs = songs['track_album_release_date'].str[:4].astype(int).between(start_year, end_year)\n",
        "  avg_popularity=filtered_songs.groupby(['playlist_genre', 'playlist_subgenre'])['track_popularity'].mean().reset_index()\n",
        "  avg_popularity['num_items']=filtered_songs.groupby(['playlist_genre', 'playlist_subgenre'])['track_popularity'].count().values\n",
        "  if chart_type=='treemap':\n",
        "    fig=px.treemap(avg_popularity,\n",
        "                 path=['playlist_genre', 'playlist_subgenre'],\n",
        "                 values='num_items',\n",
        "                 color='track_popularity',\n",
        "                 color_continuous_scale='RdBu',\n",
        "                 range_color=[0, 100],\n",
        "                 title='Treemap of Genres and Subgenres')\n",
        "  else:\n",
        "    fig= px.sunburst(avg_popularity,\n",
        "                  path=['playlist_genre', 'playlist_subgenre'],\n",
        "                  values='num_items',\n",
        "                  color='track_popularity',\n",
        "                  color_continuous_scale='RdBu',\n",
        "                  range_color=[0, 100],\n",
        "                  title='Sunburst of Genres and Subgenres')\n",
        "  return fig\n",
        "app.run_server(mode='inline')"
      ],
      "metadata": {
        "colab": {
          "base_uri": "https://localhost:8080/",
          "height": 671
        },
        "id": "mddI3X3_SvOH",
        "outputId": "31ea68a5-edf0-4c7e-f7c5-c343169f3222"
      },
      "execution_count": null,
      "outputs": [
        {
          "output_type": "display_data",
          "data": {
            "text/plain": [
              "<IPython.core.display.Javascript object>"
            ],
            "application/javascript": [
              "(async (port, path, width, height, cache, element) => {\n",
              "    if (!google.colab.kernel.accessAllowed && !cache) {\n",
              "      return;\n",
              "    }\n",
              "    element.appendChild(document.createTextNode(''));\n",
              "    const url = await google.colab.kernel.proxyPort(port, {cache});\n",
              "    const iframe = document.createElement('iframe');\n",
              "    iframe.src = new URL(path, url).toString();\n",
              "    iframe.height = height;\n",
              "    iframe.width = width;\n",
              "    iframe.style.border = 0;\n",
              "    iframe.allow = [\n",
              "        'accelerometer',\n",
              "        'autoplay',\n",
              "        'camera',\n",
              "        'clipboard-read',\n",
              "        'clipboard-write',\n",
              "        'gyroscope',\n",
              "        'magnetometer',\n",
              "        'microphone',\n",
              "        'serial',\n",
              "        'usb',\n",
              "        'xr-spatial-tracking',\n",
              "    ].join('; ');\n",
              "    element.appendChild(iframe);\n",
              "  })(8050, \"/\", \"100%\", 650, false, window.element)"
            ]
          },
          "metadata": {}
        }
      ]
    },
    {
      "cell_type": "code",
      "source": [],
      "metadata": {
        "id": "rEXBiHNChC9X"
      },
      "execution_count": null,
      "outputs": []
    }
  ]
}